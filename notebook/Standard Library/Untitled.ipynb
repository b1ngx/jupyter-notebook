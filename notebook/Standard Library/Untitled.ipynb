{
 "cells": [
  {
   "cell_type": "code",
   "execution_count": 6,
   "metadata": {
    "collapsed": false
   },
   "outputs": [
    {
     "name": "stdout",
     "output_type": "stream",
     "text": [
      "The quick brown fox jumped over the lazy dog.\n",
      "The Quick Brown Fox Jumped Over The Lazy Dog.\n",
      "The quick brown fox jumped over the lazy dog.\n",
      "\n",
      "Varialbe          : foo\n",
      "Escape            : $\n",
      "\n"
     ]
    }
   ],
   "source": [
    "import string\n",
    "\n",
    "s = 'The quick brown fox jumped over the lazy dog.'\n",
    "\n",
    "print(s)\n",
    "print(string.capwords(s))\n",
    "print(string.capitalize(s))\n",
    "\n",
    "\n",
    "values = {'var': 'foo'}\n",
    "\n",
    "t = string.Template(\"\"\"\n",
    "Varialbe          : $var\n",
    "Escape            : $$\n",
    "\"\"\")\n",
    "\n",
    "print(t.substitute(values))"
   ]
  }
 ],
 "metadata": {
  "kernelspec": {
   "display_name": "Python 2",
   "language": "python",
   "name": "python2"
  },
  "language_info": {
   "codemirror_mode": {
    "name": "ipython",
    "version": 2
   },
   "file_extension": ".py",
   "mimetype": "text/x-python",
   "name": "python",
   "nbconvert_exporter": "python",
   "pygments_lexer": "ipython2",
   "version": "2.7.12"
  }
 },
 "nbformat": 4,
 "nbformat_minor": 2
}
