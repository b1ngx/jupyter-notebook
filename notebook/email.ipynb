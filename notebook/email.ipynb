{
 "cells": [
  {
   "cell_type": "code",
   "execution_count": null,
   "metadata": {},
   "outputs": [
    {
     "name": "stdout",
     "output_type": "stream",
     "text": [
      "1234\n"
     ]
    }
   ],
   "source": [
    "# -*- coding: UTF-8 -*-\n",
    " \n",
    "import smtplib\n",
    "from email.mime.text import MIMEText\n",
    "from email.header import Header\n",
    " \n",
    "sender = 'sunbing@keji01.com'\n",
    "receivers = ['498061949@qq.com']  # 接收邮件，可设置为你的QQ邮箱或者其他邮箱\n",
    " \n",
    "mail_msg = \"\"\"\n",
    "<table align=\"center\" border=\"0\" cellpadding=\"0\" cellspacing=\"0\" width=\"720\">\n",
    "\t<tbody>\n",
    "\t\t<tr>\n",
    "            <td>河南商务厅</td>\n",
    "\t\t\t<td align=\"center\" style=\"font-size:14px;padding:30px 0 21px;color:#333333;font-family:微软雅黑,宋体,Arial,sans-serif;\">\n",
    "                <a href=\"http://www.hncom.gov.cn/newsopen/show/98774.aspx\" style=\"color:#cc0000;text-decoration:none;\" target=\"_blank\">\n",
    "                    第五批河南老字号评审结果公示\n",
    "                </a>\n",
    "            </td>\n",
    "\t\t</tr>\n",
    "\t</tbody>\n",
    "</table>\n",
    "\"\"\"\n",
    "\n",
    "message = MIMEText(mail_msg, 'html', 'utf-8')\n",
    "message['From'] = Header(\"腾讯\", 'utf-8')\n",
    "message['To'] =  Header(\"腾讯\", 'utf-8')\n",
    "message['Subject'] = Header('腾讯', 'utf-8')\n",
    "\n",
    "print('1234')\n",
    "\n",
    "try:\n",
    "    server = smtplib.SMTP('smtp.exmail.qq.com', 465)\n",
    "    server.starttls()\n",
    "    server.login(\"sunbing@keji01.com\", \"Mima2012\")    \n",
    "    server.sendmail(sender, receivers, message.as_string())\n",
    "    print(\"邮件发送成功\")\n",
    "except:\n",
    "    print(\"Error: 无法发送邮件\")"
   ]
  }
 ],
 "metadata": {
  "kernelspec": {
   "display_name": "Python 3",
   "language": "python",
   "name": "python3"
  },
  "language_info": {
   "codemirror_mode": {
    "name": "ipython",
    "version": 3
   },
   "file_extension": ".py",
   "mimetype": "text/x-python",
   "name": "python",
   "nbconvert_exporter": "python",
   "pygments_lexer": "ipython3",
   "version": "3.6.3"
  }
 },
 "nbformat": 4,
 "nbformat_minor": 2
}
