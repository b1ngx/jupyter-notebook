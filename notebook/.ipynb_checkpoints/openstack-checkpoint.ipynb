{
 "cells": [
  {
   "cell_type": "code",
   "execution_count": 4,
   "metadata": {
    "collapsed": false
   },
   "outputs": [
    {
     "name": "stdout",
     "output_type": "stream",
     "text": [
      "gAAAAABYWefZle79ea4irpotIA3P7NYjDU-zMPSjZyCp8M96ilWach4DDwQBRK0oLiEbZpQNxgtR8YmdA-RHfB7VQrP16Fmm2ctErqRZqVKNxLBcpSKdwoEReD7TujqWQ0IccdI6zcm7HKJqgpN_YWIrgCO9IHBWYQ\n",
      "{\"token\": {\"issued_at\": \"2016-12-21T02:24:25.000000Z\", \"audit_ids\": [\"slY84WtmTe6LrmpZMuW9vg\"], \"methods\": [\"password\"], \"expires_at\": \"2016-12-21T03:24:25.000000Z\", \"user\": {\"domain\": {\"id\": \"default\", \"name\": \"Default\"}, \"id\": \"f8c03c9946da4b5ea9b222ecbf8f53c1\", \"name\": \"admin\"}}}\n"
     ]
    }
   ],
   "source": [
    "import requests\n",
    "import json\n",
    "\n",
    "url = 'http://192.168.3.200:5000/v3/auth/tokens'\n",
    "\n",
    "headers = {\n",
    "    'Content-Type': 'application/json',\n",
    "}\n",
    "\n",
    "\n",
    "payload = {\n",
    "    \"auth\": {\n",
    "        \"identity\": {\n",
    "            \"methods\": [\n",
    "                \"password\"\n",
    "            ],\n",
    "            \"password\": {\n",
    "                \"user\": {\n",
    "                    \"name\": \"admin\",\n",
    "                    \"domain\": {\n",
    "                        \"name\": \"Default\"\n",
    "                    },\n",
    "                    \"password\": \"865790727\"\n",
    "                }\n",
    "            }\n",
    "        }\n",
    "    }\n",
    "}\n",
    "        \n",
    "r = requests.post(url, data=json.dumps(payload), headers=headers)\n",
    "\n",
    "print(r.headers['X-Subject-Token'])\n",
    "print(r.text)\n",
    "\n"
   ]
  },
  {
   "cell_type": "code",
   "execution_count": 7,
   "metadata": {
    "collapsed": false
   },
   "outputs": [
    {
     "name": "stdout",
     "output_type": "stream",
     "text": [
      "{\"regions\": [{\"parent_region_id\": null, \"id\": \"ZY2\", \"links\": {\"self\": \"http://192.168.3.200:5000/v3/regions/ZY2\"}, \"description\": \"\"}], \"links\": {\"self\": \"http://192.168.3.200:5000/v3/regions\", \"previous\": null, \"next\": null}}\n"
     ]
    }
   ],
   "source": [
    "import requests\n",
    "\n",
    "url = 'http://192.168.3.200:5000/v3/regions'\n",
    "\n",
    "headers = {\n",
    "    'X-Auth-Token': 'gAAAAABYWefZle79ea4irpotIA3P7NYjDU-zMPSjZyCp8M96ilWach4DDwQBRK0oLiEbZpQNxgtR8YmdA-RHfB7VQrP16Fmm2ctErqRZqVKNxLBcpSKdwoEReD7TujqWQ0IccdI6zcm7HKJqgpN_YWIrgCO9IHBWYQ',\n",
    "}\n",
    "\n",
    "r = requests.get(url, headers=headers)\n",
    "\n",
    "print(r.text)"
   ]
  },
  {
   "cell_type": "code",
   "execution_count": 42,
   "metadata": {
    "collapsed": false
   },
   "outputs": [
    {
     "name": "stdout",
     "output_type": "stream",
     "text": [
      "<Node: uuid=1b6b120d545b901a0bbc68b9a83eced8c035a628, name=YF-4, state=RUNNING, public_ips=[], private_ips=[u'192.168.1.238', u'10.0.0.8'], provider=OpenStack ...>\n",
      "running\n",
      "True\n"
     ]
    }
   ],
   "source": [
    "from libcloud.compute.types import Provider\n",
    "from libcloud.compute.providers import get_driver\n",
    "\n",
    "auth_username = 'admin'\n",
    "auth_password = '865790727'\n",
    "auth_url = 'http://192.168.3.200:5000'\n",
    "project_name = 'admin'\n",
    "region_name = 'ZY2'\n",
    "\n",
    "provider = get_driver(Provider.OPENSTACK)\n",
    "conn = provider(auth_username,\n",
    "                auth_password,\n",
    "                ex_force_auth_url=auth_url,\n",
    "                ex_force_auth_version='2.0_password',\n",
    "                ex_tenant_name=project_name,\n",
    "                ex_force_service_region=region_name)\n",
    "\n",
    "instances = conn.list_nodes()\n",
    "# for instance in instances:\n",
    "#     print(instance)\n",
    "#print instances[1]\n",
    "#print conn.ex_stop_node(instances[1])\n",
    "\n",
    "#print conn.ex_start_node(instances[1])\n",
    "\n",
    "node = conn.list_nodes()[1]\n",
    "\n",
    "print node \n",
    "print node.state\n",
    "print '192.168.1.238' in node.private_ips"
   ]
  },
  {
   "cell_type": "code",
   "execution_count": 44,
   "metadata": {
    "collapsed": false
   },
   "outputs": [
    {
     "name": "stdout",
     "output_type": "stream",
     "text": [
      "True\n"
     ]
    }
   ],
   "source": [
    "from libcloud.compute.types import Provider\n",
    "from libcloud.compute.providers import get_driver\n",
    "\n",
    "auth_username = 'admin'\n",
    "auth_password = '865790727'\n",
    "auth_url = 'http://192.168.3.200:5000'\n",
    "project_name = 'admin'\n",
    "region_name = 'ZY2'\n",
    "\n",
    "provider = get_driver(Provider.OPENSTACK)\n",
    "conn = provider(auth_username,\n",
    "                auth_password,\n",
    "                ex_force_auth_url=auth_url,\n",
    "                ex_force_auth_version='2.0_password',\n",
    "                ex_tenant_name=project_name,\n",
    "                ex_force_service_region=region_name)\n",
    "\n",
    "nodes = conn.list_nodes()\n",
    "\n",
    "def get_node(ip):\n",
    "    for node in nodes:\n",
    "        if ip in node.private_ips:\n",
    "            return node\n",
    "    return None\n",
    "\n",
    "def power(ip):\n",
    "    node = get_node(ip)\n",
    "    if node.state == 'stopped':\n",
    "        return conn.ex_start_node(node)\n",
    "    elif node.state == 'running':\n",
    "        return conn.ex_stop_node(node)\n",
    "    return False\n",
    "\n",
    "print power('192.168.1.238')"
   ]
  }
 ],
 "metadata": {
  "kernelspec": {
   "display_name": "Python 2",
   "language": "python",
   "name": "python2"
  },
  "language_info": {
   "codemirror_mode": {
    "name": "ipython",
    "version": 2
   },
   "file_extension": ".py",
   "mimetype": "text/x-python",
   "name": "python",
   "nbconvert_exporter": "python",
   "pygments_lexer": "ipython2",
   "version": "2.7.12"
  }
 },
 "nbformat": 4,
 "nbformat_minor": 2
}
