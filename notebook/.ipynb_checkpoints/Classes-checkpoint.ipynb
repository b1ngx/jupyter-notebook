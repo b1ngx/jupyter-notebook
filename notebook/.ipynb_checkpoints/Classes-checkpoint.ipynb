{
 "cells": [
  {
   "cell_type": "code",
   "execution_count": 15,
   "metadata": {
    "collapsed": false
   },
   "outputs": [
    {
     "data": {
      "text/plain": [
       "'*grunt*'"
      ]
     },
     "execution_count": 15,
     "metadata": {},
     "output_type": "execute_result"
    }
   ],
   "source": [
    "class Human(object):\n",
    "    \n",
    "    count = 1\n",
    "    \n",
    "    # 构造函数\n",
    "    def __init__(self, name):\n",
    "        self.name = name\n",
    "    \n",
    "    # 实例方法，所有实例方法以 self 作为第一个参数\n",
    "    def say(self, msg):\n",
    "        return '%s: %s' % (self.name, msg)\n",
    "    \n",
    "    # 类方法会被所有实例共享\n",
    "    # 类方法在调用时，会将自身作为第一个参数传入\n",
    "    @classmethod\n",
    "    def get_count(cls):\n",
    "        return cls.count\n",
    "    \n",
    "    # 静态方法在调用时，不会传入类或实例的调用\n",
    "    @staticmethod\n",
    "    def grunt():\n",
    "        return '*grunt*'\n",
    "    \n",
    "h = Human(name='bob')\n",
    "h.say('hello')\n",
    "h.get_count()\n",
    "h.grunt()"
   ]
  },
  {
   "cell_type": "code",
   "execution_count": null,
   "metadata": {
    "collapsed": false
   },
   "outputs": [],
   "source": []
  }
 ],
 "metadata": {
  "kernelspec": {
   "display_name": "Python 2",
   "language": "python",
   "name": "python2"
  },
  "language_info": {
   "codemirror_mode": {
    "name": "ipython",
    "version": 2
   },
   "file_extension": ".py",
   "mimetype": "text/x-python",
   "name": "python",
   "nbconvert_exporter": "python",
   "pygments_lexer": "ipython2",
   "version": "2.7.12"
  }
 },
 "nbformat": 4,
 "nbformat_minor": 1
}
