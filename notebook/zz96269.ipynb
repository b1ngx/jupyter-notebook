{
 "cells": [
  {
   "cell_type": "code",
   "execution_count": 1,
   "metadata": {
    "scrolled": true
   },
   "outputs": [
    {
     "name": "stdout",
     "output_type": "stream",
     "text": [
      "     时间               车型     票数\n",
      "2017-12-29 15:20     豪华大巴    24\n",
      "2017-12-29 18:00     豪华中巴    26\n"
     ]
    }
   ],
   "source": [
    "import requests\n",
    "from bs4 import BeautifulSoup\n",
    "\n",
    "\n",
    "def get_bus_list():\n",
    "    url = 'http://www.zz96269.com/ajax/get_bus_list.aspx'\n",
    "\n",
    "    headers = {\n",
    "        'user-agent': 'Mozilla/5.0 (Macintosh; Intel Mac OS X 10_13_0) \\\n",
    "        AppleWebKit/537.36 (KHTML, like Gecko) \\\n",
    "        Chrome/61.0.3163.100 Safari/537.36'\n",
    "    }\n",
    "\n",
    "    data = {\n",
    "        'start': '郑州市所有汽车站',\n",
    "        'global': '4101',\n",
    "        'end': '西峡',\n",
    "        'date': '2017 - 12 - 29',\n",
    "    }\n",
    "\n",
    "    r = requests.post(url, data=data, headers=headers)\n",
    "    soup = BeautifulSoup(r.text, \"html.parser\")\n",
    "    tbody = soup.select('.rebody')\n",
    "\n",
    "    if not tbody:\n",
    "        print('没有查询到车票信息')\n",
    "        return\n",
    " \n",
    "    print('     时间               车型     票数')\n",
    "    for body in tbody:\n",
    "        td = body.select('td')\n",
    "        print('{} {}     {}    {}'.format(\n",
    "                td[2].get_text().strip(),\n",
    "                td[3].get_text().strip(),\n",
    "                td[5].get_text().strip(),\n",
    "                td[7].get_text().strip())\n",
    "             )\n",
    "\n",
    "        \n",
    "\n",
    "get_bus_list()\n"
   ]
  }
 ],
 "metadata": {
  "kernelspec": {
   "display_name": "Python 3",
   "language": "python",
   "name": "python3"
  },
  "language_info": {
   "codemirror_mode": {
    "name": "ipython",
    "version": 3
   },
   "file_extension": ".py",
   "mimetype": "text/x-python",
   "name": "python",
   "nbconvert_exporter": "python",
   "pygments_lexer": "ipython3",
   "version": "3.6.3"
  }
 },
 "nbformat": 4,
 "nbformat_minor": 2
}
