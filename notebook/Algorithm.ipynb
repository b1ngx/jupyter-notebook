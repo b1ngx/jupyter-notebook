{
 "cells": [
  {
   "cell_type": "code",
   "execution_count": 1,
   "metadata": {
    "collapsed": false
   },
   "outputs": [
    {
     "data": {
      "text/plain": [
       "[1, 3, 5, 6, 8, 8]"
      ]
     },
     "execution_count": 1,
     "metadata": {},
     "output_type": "execute_result"
    }
   ],
   "source": [
    "# 快排\n",
    "# https://github.com/qiwsir/algorithm/blob/master/quick_sort.md\n",
    "\n",
    "def quick_sort(list):\n",
    "    if not list:\n",
    "        return []\n",
    "    else:\n",
    "        base = list[0]\n",
    "        small = [x for x in list if x < base]\n",
    "        big = [x for x in list[1:] if x >= base]\n",
    "    return quick_sort(small) + [base] + quick_sort(big)\n",
    "\n",
    "quick_sort([3,5,1,6,8,8])"
   ]
  },
  {
   "cell_type": "code",
   "execution_count": 10,
   "metadata": {
    "collapsed": false
   },
   "outputs": [
    {
     "name": "stdout",
     "output_type": "stream",
     "text": [
      "2\n",
      "3\n",
      "4\n"
     ]
    },
    {
     "data": {
      "text/plain": [
       "4"
      ]
     },
     "execution_count": 10,
     "metadata": {},
     "output_type": "execute_result"
    }
   ],
   "source": [
    "# 二分查找\n",
    "# https://github.com/qiwsir/algorithm/blob/master/bin_search.md\n",
    "\n",
    "def binary_search(list, value):\n",
    "    low = 0\n",
    "    heigh = len(list) - 1   \n",
    "    while low <= heigh:\n",
    "        mid = (low + heigh)/2\n",
    "        print mid\n",
    "        if list[mid] < value:\n",
    "            low = mid + 1\n",
    "        elif value < list[mid]:\n",
    "            heigh = mid - 1\n",
    "        else:\n",
    "            return mid\n",
    "\n",
    "binary_search([1, 3, 5, 6, 8], 8)"
   ]
  }
 ],
 "metadata": {
  "kernelspec": {
   "display_name": "Python 2",
   "language": "python",
   "name": "python2"
  },
  "language_info": {
   "codemirror_mode": {
    "name": "ipython",
    "version": 2
   },
   "file_extension": ".py",
   "mimetype": "text/x-python",
   "name": "python",
   "nbconvert_exporter": "python",
   "pygments_lexer": "ipython2",
   "version": "2.7.12"
  }
 },
 "nbformat": 4,
 "nbformat_minor": 2
}
